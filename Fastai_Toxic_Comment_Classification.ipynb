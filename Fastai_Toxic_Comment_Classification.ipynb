{
  "nbformat": 4,
  "nbformat_minor": 0,
  "metadata": {
    "colab": {
      "name": "Fastai Toxic Comment Classification.ipynb",
      "provenance": [],
      "collapsed_sections": [],
      "mount_file_id": "1QhPkS50cunxmLHL0eratoMoZVcO8RUpt",
      "authorship_tag": "ABX9TyODRsoGpezoWq0Z3/9bqj8a",
      "include_colab_link": true
    },
    "kernelspec": {
      "name": "python3",
      "display_name": "Python 3"
    },
    "accelerator": "GPU"
  },
  "cells": [
    {
      "cell_type": "markdown",
      "metadata": {
        "id": "view-in-github",
        "colab_type": "text"
      },
      "source": [
        "<a href=\"https://colab.research.google.com/github/ElisonSherton/fastai-basic-notebooks/blob/master/Fastai_Toxic_Comment_Classification.ipynb\" target=\"_parent\"><img src=\"https://colab.research.google.com/assets/colab-badge.svg\" alt=\"Open In Colab\"/></a>"
      ]
    },
    {
      "cell_type": "markdown",
      "metadata": {
        "id": "vIJLQNtMU1av",
        "colab_type": "text"
      },
      "source": [
        "# Toxic Comment Classification using fastai2\n",
        "\n",
        "Natural Language Processing is a sub field of Artificial Intelligence which deals with using tools in order to process and understand textual data.\n",
        "\n",
        "Unlike most image and tabular data, text data comes exclusively in sequences. So, the architecture and technique behind solving these problems is quite different from solving an image/tabular data use-case.\n",
        "\n",
        "In [this Kaggle Competition](https://www.kaggle.com/c/jigsaw-toxic-comment-classification-challenge), contestants have to build a model which can parse the comments which are basically sentences and tell whether the comment falls in one of the following categories:\n",
        "\n",
        "- toxic\n",
        "- severe toxic\n",
        "- obscene\n",
        "- threat\n",
        "- insult\n",
        "- identity hate\n",
        "\n",
        "These are all comments which are taken from Wikipedia and they're manually labelled by humans to belong to one of these six kinds of comments. \n",
        "\n",
        "Without further ado, let's get started."
      ]
    },
    {
      "cell_type": "code",
      "metadata": {
        "id": "-lt7D4NNdL46",
        "colab_type": "code",
        "colab": {}
      },
      "source": [
        "# Install fastai\n",
        "!pip install -Uqq fastbook\n",
        "!pip install fastai --upgrade"
      ],
      "execution_count": null,
      "outputs": []
    },
    {
      "cell_type": "code",
      "metadata": {
        "id": "kjWdkqsiYEkP",
        "colab_type": "code",
        "colab": {}
      },
      "source": [
        "# Import all the libraries needed for this problem\n",
        "import os\n",
        "from fastai import *\n",
        "from fastai.data.all import *\n",
        "from fastai.text.all import *\n",
        "from IPython.display import display_html\n",
        "pd.set_option('display.max_colwidth', None)\n",
        "plt.style.use(\"fivethirtyeight\")"
      ],
      "execution_count": 2,
      "outputs": []
    },
    {
      "cell_type": "code",
      "metadata": {
        "id": "-dBT5zKtY0-M",
        "colab_type": "code",
        "colab": {}
      },
      "source": [
        "# Set your username and key from the kaggle API from your account\n",
        "os.environ[\"KAGGLE_USERNAME\"] = \"###\"\n",
        "os.environ[\"KAGGLE_KEY\"] = \"###\"\n",
        "os.chdir(\"/content/drive/My Drive/Colab Notebooks\")\n",
        "os.mkdir(\"Toxic Comments Data\")\n",
        "os.chdir(\"./Toxic Comments Data\")\n",
        "\n",
        "# Download the data from kaggle to the directory you just created\n",
        "!pip install kaggle\n",
        "!kaggle competitions download -c jigsaw-toxic-comment-classification-challenge"
      ],
      "execution_count": null,
      "outputs": []
    },
    {
      "cell_type": "code",
      "metadata": {
        "id": "Ev2whYoYX5Kd",
        "colab_type": "code",
        "colab": {
          "base_uri": "https://localhost:8080/",
          "height": 175
        },
        "outputId": "23f89abd-70eb-41fd-8984-a9d82aa32026"
      },
      "source": [
        "# Unzip all the csv files and remove the zip files\n",
        "!unzip train.csv.zip && rm train.csv.zip\n",
        "!unzip test.csv.zip && rm test.csv.zip\n",
        "!unzip test_labels.csv.zip && rm test_labels.csv.zip\n",
        "!unzip sample_submission.csv.zip && rm sample_submission.csv.zip"
      ],
      "execution_count": null,
      "outputs": [
        {
          "output_type": "stream",
          "text": [
            "Archive:  train.csv.zip\n",
            "replace train.csv? [y]es, [n]o, [A]ll, [N]one, [r]ename: y\n",
            "  inflating: train.csv               \n",
            "Archive:  test.csv.zip\n",
            "  inflating: test.csv                \n",
            "Archive:  test_labels.csv.zip\n",
            "  inflating: test_labels.csv         \n",
            "Archive:  sample_submission.csv.zip\n",
            "  inflating: sample_submission.csv   \n"
          ],
          "name": "stdout"
        }
      ]
    },
    {
      "cell_type": "code",
      "metadata": {
        "id": "k6yEds37YSnG",
        "colab_type": "code",
        "colab": {}
      },
      "source": [
        "# Read in the train and test sets.\n",
        "os.chdir(\"/content/drive/My Drive/Colab Notebooks/Toxic Comments Data\")\n",
        "train_df = pd.read_csv(\"train.csv\")\n",
        "test_df = pd.read_csv(\"test.csv\")"
      ],
      "execution_count": 4,
      "outputs": []
    },
    {
      "cell_type": "code",
      "metadata": {
        "id": "tuP-EVGEa9N2",
        "colab_type": "code",
        "colab": {
          "base_uri": "https://localhost:8080/",
          "height": 464
        },
        "outputId": "3cc4e750-ae5d-46bf-81bf-fc5f3764125b"
      },
      "source": [
        "# Look at a few entries from the dataset\n",
        "train_df.head()"
      ],
      "execution_count": 4,
      "outputs": [
        {
          "output_type": "execute_result",
          "data": {
            "text/html": [
              "<div>\n",
              "<style scoped>\n",
              "    .dataframe tbody tr th:only-of-type {\n",
              "        vertical-align: middle;\n",
              "    }\n",
              "\n",
              "    .dataframe tbody tr th {\n",
              "        vertical-align: top;\n",
              "    }\n",
              "\n",
              "    .dataframe thead th {\n",
              "        text-align: right;\n",
              "    }\n",
              "</style>\n",
              "<table border=\"1\" class=\"dataframe\">\n",
              "  <thead>\n",
              "    <tr style=\"text-align: right;\">\n",
              "      <th></th>\n",
              "      <th>id</th>\n",
              "      <th>comment_text</th>\n",
              "      <th>toxic</th>\n",
              "      <th>severe_toxic</th>\n",
              "      <th>obscene</th>\n",
              "      <th>threat</th>\n",
              "      <th>insult</th>\n",
              "      <th>identity_hate</th>\n",
              "    </tr>\n",
              "  </thead>\n",
              "  <tbody>\n",
              "    <tr>\n",
              "      <th>0</th>\n",
              "      <td>0000997932d777bf</td>\n",
              "      <td>Explanation\\nWhy the edits made under my username Hardcore Metallica Fan were reverted? They weren't vandalisms, just closure on some GAs after I voted at New York Dolls FAC. And please don't remove the template from the talk page since I'm retired now.89.205.38.27</td>\n",
              "      <td>0</td>\n",
              "      <td>0</td>\n",
              "      <td>0</td>\n",
              "      <td>0</td>\n",
              "      <td>0</td>\n",
              "      <td>0</td>\n",
              "    </tr>\n",
              "    <tr>\n",
              "      <th>1</th>\n",
              "      <td>000103f0d9cfb60f</td>\n",
              "      <td>D'aww! He matches this background colour I'm seemingly stuck with. Thanks.  (talk) 21:51, January 11, 2016 (UTC)</td>\n",
              "      <td>0</td>\n",
              "      <td>0</td>\n",
              "      <td>0</td>\n",
              "      <td>0</td>\n",
              "      <td>0</td>\n",
              "      <td>0</td>\n",
              "    </tr>\n",
              "    <tr>\n",
              "      <th>2</th>\n",
              "      <td>000113f07ec002fd</td>\n",
              "      <td>Hey man, I'm really not trying to edit war. It's just that this guy is constantly removing relevant information and talking to me through edits instead of my talk page. He seems to care more about the formatting than the actual info.</td>\n",
              "      <td>0</td>\n",
              "      <td>0</td>\n",
              "      <td>0</td>\n",
              "      <td>0</td>\n",
              "      <td>0</td>\n",
              "      <td>0</td>\n",
              "    </tr>\n",
              "    <tr>\n",
              "      <th>3</th>\n",
              "      <td>0001b41b1c6bb37e</td>\n",
              "      <td>\"\\nMore\\nI can't make any real suggestions on improvement - I wondered if the section statistics should be later on, or a subsection of \"\"types of accidents\"\"  -I think the references may need tidying so that they are all in the exact same format ie date format etc. I can do that later on, if no-one else does first - if you have any preferences for formatting style on references or want to do it yourself please let me know.\\n\\nThere appears to be a backlog on articles for review so I guess there may be a delay until a reviewer turns up. It's listed in the relevant form eg Wikipedia:Good_article_nominations#Transport  \"</td>\n",
              "      <td>0</td>\n",
              "      <td>0</td>\n",
              "      <td>0</td>\n",
              "      <td>0</td>\n",
              "      <td>0</td>\n",
              "      <td>0</td>\n",
              "    </tr>\n",
              "    <tr>\n",
              "      <th>4</th>\n",
              "      <td>0001d958c54c6e35</td>\n",
              "      <td>You, sir, are my hero. Any chance you remember what page that's on?</td>\n",
              "      <td>0</td>\n",
              "      <td>0</td>\n",
              "      <td>0</td>\n",
              "      <td>0</td>\n",
              "      <td>0</td>\n",
              "      <td>0</td>\n",
              "    </tr>\n",
              "  </tbody>\n",
              "</table>\n",
              "</div>"
            ],
            "text/plain": [
              "                 id  ... identity_hate\n",
              "0  0000997932d777bf  ...             0\n",
              "1  000103f0d9cfb60f  ...             0\n",
              "2  000113f07ec002fd  ...             0\n",
              "3  0001b41b1c6bb37e  ...             0\n",
              "4  0001d958c54c6e35  ...             0\n",
              "\n",
              "[5 rows x 8 columns]"
            ]
          },
          "metadata": {
            "tags": []
          },
          "execution_count": 4
        }
      ]
    },
    {
      "cell_type": "code",
      "metadata": {
        "id": "LHyU6voactzx",
        "colab_type": "code",
        "colab": {
          "base_uri": "https://localhost:8080/",
          "height": 433
        },
        "outputId": "39d35119-1cb2-4949-f50f-8b965a9df980"
      },
      "source": [
        "# Look at the distribution of comments\n",
        "f = lambda x: train_df[x].sum()\n",
        "\n",
        "comment_types = train_df.columns[2:]\n",
        "comment_counts = [f(x) for x in comment_types]\n",
        "\n",
        "fig, ax = plt.subplots(1, 1, figsize = (10, 6))\n",
        "plt.bar(comment_types, comment_counts)\n",
        "ax.set_title(f\"Comment distribution of {len(train_df)} wikipedia comments.\")\n",
        "plt.tight_layout();"
      ],
      "execution_count": null,
      "outputs": [
        {
          "output_type": "display_data",
          "data": {
            "image/png": "[encoded data removed]",
            "text/plain": [
              "<Figure size 720x432 with 1 Axes>"
            ]
          },
          "metadata": {
            "tags": []
          }
        }
      ]
    },
    {
      "cell_type": "markdown",
      "metadata": {
        "id": "wdc_OdjBaHkw",
        "colab_type": "text"
      },
      "source": [
        "# Creating Language Model"
      ]
    },
    {
      "cell_type": "code",
      "metadata": {
        "id": "Py7ukYx9eYgv",
        "colab_type": "code",
        "colab": {}
      },
      "source": [
        "# For building a language model, we can basically use both train and test data so that the embeddings are\n",
        "# created and refined for many observed words.\n",
        "lm_df = train_df[[\"id\", \"comment_text\"]].append(test_df).reset_index(drop = True)"
      ],
      "execution_count": null,
      "outputs": []
    },
    {
      "cell_type": "code",
      "metadata": {
        "id": "BqVfiYTBov9M",
        "colab_type": "code",
        "colab": {
          "base_uri": "https://localhost:8080/",
          "height": 603
        },
        "outputId": "e94c260d-0d4f-42db-a00d-52663e9c5733"
      },
      "source": [
        "lm_df"
      ],
      "execution_count": null,
      "outputs": [
        {
          "output_type": "execute_result",
          "data": {
            "text/html": [
              "<div>\n",
              "<style scoped>\n",
              "    .dataframe tbody tr th:only-of-type {\n",
              "        vertical-align: middle;\n",
              "    }\n",
              "\n",
              "    .dataframe tbody tr th {\n",
              "        vertical-align: top;\n",
              "    }\n",
              "\n",
              "    .dataframe thead th {\n",
              "        text-align: right;\n",
              "    }\n",
              "</style>\n",
              "<table border=\"1\" class=\"dataframe\">\n",
              "  <thead>\n",
              "    <tr style=\"text-align: right;\">\n",
              "      <th></th>\n",
              "      <th>id</th>\n",
              "      <th>comment_text</th>\n",
              "    </tr>\n",
              "  </thead>\n",
              "  <tbody>\n",
              "    <tr>\n",
              "      <th>0</th>\n",
              "      <td>0000997932d777bf</td>\n",
              "      <td>Explanation\\nWhy the edits made under my username Hardcore Metallica Fan were reverted? They weren't vandalisms, just closure on some GAs after I voted at New York Dolls FAC. And please don't remove the template from the talk page since I'm retired now.89.205.38.27</td>\n",
              "    </tr>\n",
              "    <tr>\n",
              "      <th>1</th>\n",
              "      <td>000103f0d9cfb60f</td>\n",
              "      <td>D'aww! He matches this background colour I'm seemingly stuck with. Thanks.  (talk) 21:51, January 11, 2016 (UTC)</td>\n",
              "    </tr>\n",
              "    <tr>\n",
              "      <th>2</th>\n",
              "      <td>000113f07ec002fd</td>\n",
              "      <td>Hey man, I'm really not trying to edit war. It's just that this guy is constantly removing relevant information and talking to me through edits instead of my talk page. He seems to care more about the formatting than the actual info.</td>\n",
              "    </tr>\n",
              "    <tr>\n",
              "      <th>3</th>\n",
              "      <td>0001b41b1c6bb37e</td>\n",
              "      <td>\"\\nMore\\nI can't make any real suggestions on improvement - I wondered if the section statistics should be later on, or a subsection of \"\"types of accidents\"\"  -I think the references may need tidying so that they are all in the exact same format ie date format etc. I can do that later on, if no-one else does first - if you have any preferences for formatting style on references or want to do it yourself please let me know.\\n\\nThere appears to be a backlog on articles for review so I guess there may be a delay until a reviewer turns up. It's listed in the relevant form eg Wikipedia:Good_article_nominations#Transport  \"</td>\n",
              "    </tr>\n",
              "    <tr>\n",
              "      <th>4</th>\n",
              "      <td>0001d958c54c6e35</td>\n",
              "      <td>You, sir, are my hero. Any chance you remember what page that's on?</td>\n",
              "    </tr>\n",
              "    <tr>\n",
              "      <th>...</th>\n",
              "      <td>...</td>\n",
              "      <td>...</td>\n",
              "    </tr>\n",
              "    <tr>\n",
              "      <th>312730</th>\n",
              "      <td>fffcd0960ee309b5</td>\n",
              "      <td>. \\n i totally agree, this stuff is nothing but too-long-crap</td>\n",
              "    </tr>\n",
              "    <tr>\n",
              "      <th>312731</th>\n",
              "      <td>fffd7a9a6eb32c16</td>\n",
              "      <td>== Throw from out field to home plate. == \\n\\n Does it get there faster by throwing to cut off man or direct from out fielder? \\n Were the out fielders in the Mickey mantle era have better arms? \\n Rich</td>\n",
              "    </tr>\n",
              "    <tr>\n",
              "      <th>312732</th>\n",
              "      <td>fffda9e8d6fafa9e</td>\n",
              "      <td>\" \\n\\n == Okinotorishima categories == \\n\\n I see your changes and agree this is \"\"more correct.\"\"  I had gotten confused, but then found this: \\n :... while acknowledging Japan's territorial rights to Okinotorishima itself ... \\n However, is there a category for  \\n :... did not acknowledge Japan's claim to an exclusive economic zone (EEZ) stemming from Okinotorishima. \\n That is, is there a category for \"\"disputed EEZ\"\"s?   \"</td>\n",
              "    </tr>\n",
              "    <tr>\n",
              "      <th>312733</th>\n",
              "      <td>fffe8f1340a79fc2</td>\n",
              "      <td>\" \\n\\n == \"\"One of the founding nations of the EU - Germany - has a Law of Return quite similar to Israel's\"\" == \\n\\n This isn't actually true, is it? Germany allows people whose ancestors were citizens of Germany to return, but AFAIK it does not allow the descendants of Anglo-Saxons to \"\"return\"\" to Angeln and Saxony. Israel, by contrast, allows all Jews to \"\"return\"\" to Israel, even if they can't trace a particular ancestral line to anyone who lived in the modern state or even mandate Palestine. — \"</td>\n",
              "    </tr>\n",
              "    <tr>\n",
              "      <th>312734</th>\n",
              "      <td>ffffce3fb183ee80</td>\n",
              "      <td>\" \\n :::Stop already. Your bullshit is not welcome here. I'm no fool, and if you think that kind of explination is enough, well pity you.    \"</td>\n",
              "    </tr>\n",
              "  </tbody>\n",
              "</table>\n",
              "<p>312735 rows × 2 columns</p>\n",
              "</div>"
            ],
            "text/plain": [
              "                      id                                                                                                                                                                                                                                                                                                                                                                                                                                                                                                                                                                                                                                        comment_text\n",
              "0       0000997932d777bf                                                                                                                                                                                                                                                                                                                                                                           Explanation\\nWhy the edits made under my username Hardcore Metallica Fan were reverted? They weren't vandalisms, just closure on some GAs after I voted at New York Dolls FAC. And please don't remove the template from the talk page since I'm retired now.89.205.38.27\n",
              "1       000103f0d9cfb60f                                                                                                                                                                                                                                                                                                                                                                                                                                                                                                                                    D'aww! He matches this background colour I'm seemingly stuck with. Thanks.  (talk) 21:51, January 11, 2016 (UTC)\n",
              "2       000113f07ec002fd                                                                                                                                                                                                                                                                                                                                                                                                           Hey man, I'm really not trying to edit war. It's just that this guy is constantly removing relevant information and talking to me through edits instead of my talk page. He seems to care more about the formatting than the actual info.\n",
              "3       0001b41b1c6bb37e  \"\\nMore\\nI can't make any real suggestions on improvement - I wondered if the section statistics should be later on, or a subsection of \"\"types of accidents\"\"  -I think the references may need tidying so that they are all in the exact same format ie date format etc. I can do that later on, if no-one else does first - if you have any preferences for formatting style on references or want to do it yourself please let me know.\\n\\nThere appears to be a backlog on articles for review so I guess there may be a delay until a reviewer turns up. It's listed in the relevant form eg Wikipedia:Good_article_nominations#Transport  \"\n",
              "4       0001d958c54c6e35                                                                                                                                                                                                                                                                                                                                                                                                                                                                                                                                                                                 You, sir, are my hero. Any chance you remember what page that's on?\n",
              "...                  ...                                                                                                                                                                                                                                                                                                                                                                                                                                                                                                                                                                                                                                                 ...\n",
              "312730  fffcd0960ee309b5                                                                                                                                                                                                                                                                                                                                                                                                                                                                                                                                                                                       . \\n i totally agree, this stuff is nothing but too-long-crap\n",
              "312731  fffd7a9a6eb32c16                                                                                                                                                                                                                                                                                                                                                                                                                                          == Throw from out field to home plate. == \\n\\n Does it get there faster by throwing to cut off man or direct from out fielder? \\n Were the out fielders in the Mickey mantle era have better arms? \\n Rich\n",
              "312732  fffda9e8d6fafa9e                                                                                                                                                                                                     \" \\n\\n == Okinotorishima categories == \\n\\n I see your changes and agree this is \"\"more correct.\"\"  I had gotten confused, but then found this: \\n :... while acknowledging Japan's territorial rights to Okinotorishima itself ... \\n However, is there a category for  \\n :... did not acknowledge Japan's claim to an exclusive economic zone (EEZ) stemming from Okinotorishima. \\n That is, is there a category for \"\"disputed EEZ\"\"s?   \"\n",
              "312733  fffe8f1340a79fc2                                                                                                                          \" \\n\\n == \"\"One of the founding nations of the EU - Germany - has a Law of Return quite similar to Israel's\"\" == \\n\\n This isn't actually true, is it? Germany allows people whose ancestors were citizens of Germany to return, but AFAIK it does not allow the descendants of Anglo-Saxons to \"\"return\"\" to Angeln and Saxony. Israel, by contrast, allows all Jews to \"\"return\"\" to Israel, even if they can't trace a particular ancestral line to anyone who lived in the modern state or even mandate Palestine. — \"\n",
              "312734  ffffce3fb183ee80                                                                                                                                                                                                                                                                                                                                                                                                                                                                                                      \" \\n :::Stop already. Your bullshit is not welcome here. I'm no fool, and if you think that kind of explination is enough, well pity you.    \"\n",
              "\n",
              "[312735 rows x 2 columns]"
            ]
          },
          "metadata": {
            "tags": []
          },
          "execution_count": 75
        }
      ]
    },
    {
      "cell_type": "code",
      "metadata": {
        "id": "DqsQ7GjAhxql",
        "colab_type": "code",
        "colab": {
          "base_uri": "https://localhost:8080/",
          "height": 17
        },
        "outputId": "3d1e2ac8-8cdf-4dca-cada-635f7c4b045a"
      },
      "source": [
        "# Tokenize the dataframe created above to have all the descriptions tokenized properly and build a dataloader\n",
        "# For creating a language model\n",
        "dls_lm = TextDataLoaders.from_df(lm_df,\n",
        "                                 text_col='comment_text',\n",
        "                                 valid_pct = .2,\n",
        "                                 is_lm = True,\n",
        "                                 seq_len = 72,\n",
        "                                 bs = 64)"
      ],
      "execution_count": null,
      "outputs": [
        {
          "output_type": "display_data",
          "data": {
            "text/html": [
              ""
            ],
            "text/plain": [
              "<IPython.core.display.HTML object>"
            ]
          },
          "metadata": {
            "tags": []
          }
        }
      ]
    },
    {
      "cell_type": "code",
      "metadata": {
        "id": "FsqXlAWbiI_I",
        "colab_type": "code",
        "colab": {
          "base_uri": "https://localhost:8080/",
          "height": 224
        },
        "outputId": "310ca6a5-414c-4d40-d421-cc492778b61d"
      },
      "source": [
        "# Have a look at two random entries from the language model created above\n",
        "dls_lm.show_batch(max_n = 2)"
      ],
      "execution_count": null,
      "outputs": [
        {
          "output_type": "display_data",
          "data": {
            "text/html": [
              "<table border=\"1\" class=\"dataframe\">\n",
              "  <thead>\n",
              "    <tr style=\"text-align: right;\">\n",
              "      <th></th>\n",
              "      <th>text</th>\n",
              "      <th>text_</th>\n",
              "    </tr>\n",
              "  </thead>\n",
              "  <tbody>\n",
              "    <tr>\n",
              "      <th>0</th>\n",
              "      <td>xxbos \" \\n\\n▁ = = sockpuppetry case== \\n▁ { | align=\"\"left \" \" \\n▁ || \\n▁ | } \\n▁ xxmaj you have been accused of sockpuppetry . xxmaj please refer to for evidence . xxmaj please make sure you make yourself familiar with notes for the suspect before editing the evidence page . \" xxbos : technically both , as xxmaj xxunk contains only xxmaj xxunk . xxbos 3rd xxmaj term \\n\\n</td>\n",
              "      <td>\" \\n\\n▁ = = sockpuppetry case== \\n▁ { | align=\"\"left \" \" \\n▁ || \\n▁ | } \\n▁ xxmaj you have been accused of sockpuppetry . xxmaj please refer to for evidence . xxmaj please make sure you make yourself familiar with notes for the suspect before editing the evidence page . \" xxbos : technically both , as xxmaj xxunk contains only xxmaj xxunk . xxbos 3rd xxmaj term \\n\\n xxmaj</td>\n",
              "    </tr>\n",
              "    <tr>\n",
              "      <th>1</th>\n",
              "      <td>and a detailed one below ? xxbos \" \\n\\n▁ = = xxmaj we need pie = = \\n\\n▁ { | style=\"\"background - color : # fdffe7 ; border : 1px solid # fceb92 ; \" \" \\n▁ |style=\"\"vertical - align : middle ; padding : 5px ; \" \" | \\n▁ |style=\"\"vertical - align : middle ; padding : 3px ; \" \" | xxmaj life throws us all curve balls ,</td>\n",
              "      <td>a detailed one below ? xxbos \" \\n\\n▁ = = xxmaj we need pie = = \\n\\n▁ { | style=\"\"background - color : # fdffe7 ; border : 1px solid # fceb92 ; \" \" \\n▁ |style=\"\"vertical - align : middle ; padding : 5px ; \" \" | \\n▁ |style=\"\"vertical - align : middle ; padding : 3px ; \" \" | xxmaj life throws us all curve balls , sorry</td>\n",
              "    </tr>\n",
              "  </tbody>\n",
              "</table>"
            ],
            "text/plain": [
              "<IPython.core.display.HTML object>"
            ]
          },
          "metadata": {
            "tags": []
          }
        }
      ]
    },
    {
      "cell_type": "code",
      "metadata": {
        "id": "hjJbNWQvmGgG",
        "colab_type": "code",
        "colab": {}
      },
      "source": [
        "# Create & fine tune the language model\n",
        "learn = language_model_learner(dls_lm, \n",
        "                               AWD_LSTM,\n",
        "                               drop_mult = .3,\n",
        "                               metrics = [accuracy, Perplexity()]).to_fp16()"
      ],
      "execution_count": null,
      "outputs": []
    },
    {
      "cell_type": "code",
      "metadata": {
        "id": "zXLdLEtzmGj6",
        "colab_type": "code",
        "colab": {
          "base_uri": "https://localhost:8080/",
          "height": 77
        },
        "outputId": "2d70570b-5c3f-4fed-971b-ec999f434ae7"
      },
      "source": [
        "# Fit one cycle with \n",
        "learn.fit_one_cycle(1, 2e-2)"
      ],
      "execution_count": null,
      "outputs": [
        {
          "output_type": "display_data",
          "data": {
            "text/html": [
              "<table border=\"1\" class=\"dataframe\">\n",
              "  <thead>\n",
              "    <tr style=\"text-align: left;\">\n",
              "      <th>epoch</th>\n",
              "      <th>train_loss</th>\n",
              "      <th>valid_loss</th>\n",
              "      <th>accuracy</th>\n",
              "      <th>perplexity</th>\n",
              "      <th>time</th>\n",
              "    </tr>\n",
              "  </thead>\n",
              "  <tbody>\n",
              "    <tr>\n",
              "      <td>0</td>\n",
              "      <td>4.048460</td>\n",
              "      <td>3.809381</td>\n",
              "      <td>0.328461</td>\n",
              "      <td>45.122501</td>\n",
              "      <td>28:22</td>\n",
              "    </tr>\n",
              "  </tbody>\n",
              "</table>"
            ],
            "text/plain": [
              "<IPython.core.display.HTML object>"
            ]
          },
          "metadata": {
            "tags": []
          }
        }
      ]
    },
    {
      "cell_type": "code",
      "metadata": {
        "id": "08MyQTyntTRP",
        "colab_type": "code",
        "colab": {}
      },
      "source": [
        "# Save the encoder part for the sake of building a classification model later on\n",
        "learn.save_encoder(\"finetuned_language_model_encoder\")"
      ],
      "execution_count": null,
      "outputs": []
    },
    {
      "cell_type": "code",
      "metadata": {
        "id": "K0ynernFmGmy",
        "colab_type": "code",
        "colab": {
          "base_uri": "https://localhost:8080/",
          "height": 166
        },
        "outputId": "8f325a84-5a0a-4a13-c770-a4aa95a528e1"
      },
      "source": [
        "# Unfreeze the model and then train the learner again for 4 more epochs\n",
        "learn.unfreeze()\n",
        "learn.fit_one_cycle(4, 1e-3)"
      ],
      "execution_count": null,
      "outputs": [
        {
          "output_type": "display_data",
          "data": {
            "text/html": [
              "<table border=\"1\" class=\"dataframe\">\n",
              "  <thead>\n",
              "    <tr style=\"text-align: left;\">\n",
              "      <th>epoch</th>\n",
              "      <th>train_loss</th>\n",
              "      <th>valid_loss</th>\n",
              "      <th>accuracy</th>\n",
              "      <th>perplexity</th>\n",
              "      <th>time</th>\n",
              "    </tr>\n",
              "  </thead>\n",
              "  <tbody>\n",
              "    <tr>\n",
              "      <td>0</td>\n",
              "      <td>3.550328</td>\n",
              "      <td>3.587820</td>\n",
              "      <td>0.357523</td>\n",
              "      <td>36.155155</td>\n",
              "      <td>30:55</td>\n",
              "    </tr>\n",
              "    <tr>\n",
              "      <td>1</td>\n",
              "      <td>3.526780</td>\n",
              "      <td>3.476392</td>\n",
              "      <td>0.373162</td>\n",
              "      <td>32.342804</td>\n",
              "      <td>30:49</td>\n",
              "    </tr>\n",
              "    <tr>\n",
              "      <td>2</td>\n",
              "      <td>3.427127</td>\n",
              "      <td>3.419326</td>\n",
              "      <td>0.381164</td>\n",
              "      <td>30.548828</td>\n",
              "      <td>30:44</td>\n",
              "    </tr>\n",
              "    <tr>\n",
              "      <td>3</td>\n",
              "      <td>3.288719</td>\n",
              "      <td>3.410187</td>\n",
              "      <td>0.382664</td>\n",
              "      <td>30.270905</td>\n",
              "      <td>30:48</td>\n",
              "    </tr>\n",
              "  </tbody>\n",
              "</table>"
            ],
            "text/plain": [
              "<IPython.core.display.HTML object>"
            ]
          },
          "metadata": {
            "tags": []
          }
        }
      ]
    },
    {
      "cell_type": "code",
      "metadata": {
        "id": "8c6r8RAhoCgd",
        "colab_type": "code",
        "colab": {}
      },
      "source": [
        "# Save the encoder. It'll be used in training the classifier portion\n",
        "learn.save_encoder(\"finetuned_language_model_encoder\")"
      ],
      "execution_count": null,
      "outputs": []
    },
    {
      "cell_type": "markdown",
      "metadata": {
        "id": "bXdb7UtiocKj",
        "colab_type": "text"
      },
      "source": [
        "# Creating classification model"
      ]
    },
    {
      "cell_type": "code",
      "metadata": {
        "id": "qXUM6nISWwff",
        "colab_type": "code",
        "colab": {}
      },
      "source": [
        "# Make a list of columns that would serve as your labels for this task\n",
        "label_cols = list(train_df.columns[2:])"
      ],
      "execution_count": null,
      "outputs": []
    },
    {
      "cell_type": "code",
      "metadata": {
        "id": "_bU4rw6F0vme",
        "colab_type": "code",
        "colab": {}
      },
      "source": [
        "# Create a column of texts which has a list of all the categories.\n",
        "# When all the entries are zeros, let's call the txt sober\n",
        "def get_labels(row):\n",
        "    indcs = np.where(row == 1)[0]\n",
        "    if len(indcs) == 0:\n",
        "        return \"sober\"\n",
        "    return \";\".join([label_cols[x] for x in indcs])"
      ],
      "execution_count": null,
      "outputs": []
    },
    {
      "cell_type": "code",
      "metadata": {
        "id": "tx-COZXS0vyN",
        "colab_type": "code",
        "colab": {
          "base_uri": "https://localhost:8080/",
          "height": 122
        },
        "outputId": "1f86c498-5958-44b9-a1d2-8d4a08e514e5"
      },
      "source": [
        "# Get the labels all in a nicely formatted style\n",
        "labels = train_df[label_cols].apply(lambda row: get_labels(row), axis = 1)\n",
        "labels[:5]"
      ],
      "execution_count": null,
      "outputs": [
        {
          "output_type": "execute_result",
          "data": {
            "text/plain": [
              "0    sober\n",
              "1    sober\n",
              "2    sober\n",
              "3    sober\n",
              "4    sober\n",
              "dtype: object"
            ]
          },
          "metadata": {
            "tags": []
          },
          "execution_count": 47
        }
      ]
    },
    {
      "cell_type": "code",
      "metadata": {
        "id": "1U108ajGznh2",
        "colab_type": "code",
        "colab": {
          "base_uri": "https://localhost:8080/",
          "height": 237
        },
        "outputId": "f8d29864-cff5-4a97-bcd9-2ea868bdb45c"
      },
      "source": [
        "# Add the labels object to our dataframe\n",
        "train_df[\"Labels\"] = labels\n",
        "train_df.tail(3)"
      ],
      "execution_count": null,
      "outputs": [
        {
          "output_type": "execute_result",
          "data": {
            "text/html": [
              "<div>\n",
              "<style scoped>\n",
              "    .dataframe tbody tr th:only-of-type {\n",
              "        vertical-align: middle;\n",
              "    }\n",
              "\n",
              "    .dataframe tbody tr th {\n",
              "        vertical-align: top;\n",
              "    }\n",
              "\n",
              "    .dataframe thead th {\n",
              "        text-align: right;\n",
              "    }\n",
              "</style>\n",
              "<table border=\"1\" class=\"dataframe\">\n",
              "  <thead>\n",
              "    <tr style=\"text-align: right;\">\n",
              "      <th></th>\n",
              "      <th>id</th>\n",
              "      <th>comment_text</th>\n",
              "      <th>toxic</th>\n",
              "      <th>severe_toxic</th>\n",
              "      <th>obscene</th>\n",
              "      <th>threat</th>\n",
              "      <th>insult</th>\n",
              "      <th>identity_hate</th>\n",
              "      <th>Labels</th>\n",
              "    </tr>\n",
              "  </thead>\n",
              "  <tbody>\n",
              "    <tr>\n",
              "      <th>159568</th>\n",
              "      <td>ffee36eab5c267c9</td>\n",
              "      <td>Spitzer \\n\\nUmm, theres no actual article for prostitution ring.  - Crunch Captain.</td>\n",
              "      <td>0</td>\n",
              "      <td>0</td>\n",
              "      <td>0</td>\n",
              "      <td>0</td>\n",
              "      <td>0</td>\n",
              "      <td>0</td>\n",
              "      <td>sober</td>\n",
              "    </tr>\n",
              "    <tr>\n",
              "      <th>159569</th>\n",
              "      <td>fff125370e4aaaf3</td>\n",
              "      <td>And it looks like it was actually you who put on the speedy to have the first version deleted now that I look at it.</td>\n",
              "      <td>0</td>\n",
              "      <td>0</td>\n",
              "      <td>0</td>\n",
              "      <td>0</td>\n",
              "      <td>0</td>\n",
              "      <td>0</td>\n",
              "      <td>sober</td>\n",
              "    </tr>\n",
              "    <tr>\n",
              "      <th>159570</th>\n",
              "      <td>fff46fc426af1f9a</td>\n",
              "      <td>\"\\nAnd ... I really don't think you understand.  I came here and my idea was bad right away.  What kind of community goes \"\"you have bad ideas\"\" go away, instead of helping rewrite them.   \"</td>\n",
              "      <td>0</td>\n",
              "      <td>0</td>\n",
              "      <td>0</td>\n",
              "      <td>0</td>\n",
              "      <td>0</td>\n",
              "      <td>0</td>\n",
              "      <td>sober</td>\n",
              "    </tr>\n",
              "  </tbody>\n",
              "</table>\n",
              "</div>"
            ],
            "text/plain": [
              "                      id  ... Labels\n",
              "159568  ffee36eab5c267c9  ...  sober\n",
              "159569  fff125370e4aaaf3  ...  sober\n",
              "159570  fff46fc426af1f9a  ...  sober\n",
              "\n",
              "[3 rows x 9 columns]"
            ]
          },
          "metadata": {
            "tags": []
          },
          "execution_count": 48
        }
      ]
    },
    {
      "cell_type": "code",
      "metadata": {
        "id": "8hl-9TkSt0GL",
        "colab_type": "code",
        "colab": {}
      },
      "source": [
        "# Create a Dataloader to feed to the model\n",
        "dls_blk = DataBlock(blocks = (TextBlock.from_df(text_cols = \"comment_text\", seq_len = 128),\n",
        "                              MultiCategoryBlock),\n",
        "                    get_x = ColReader(cols = \"text\"),\n",
        "                    get_y = ColReader(cols = \"Labels\", label_delim = \";\"),\n",
        "                    splitter = TrainTestSplitter(test_size = 0.2, random_state = 21))\n",
        "\n",
        "dls_clf = dls_blk.dataloaders(train_df,\n",
        "                              bs = 64,\n",
        "                              seed = 20)"
      ],
      "execution_count": null,
      "outputs": []
    },
    {
      "cell_type": "code",
      "metadata": {
        "id": "c8pA5MjpAhqi",
        "colab_type": "code",
        "colab": {}
      },
      "source": [
        "# Have a look at one batch to get a feel for the dataloader's batch\n",
        "dls_clf.show_batch(max_n = 3)"
      ],
      "execution_count": null,
      "outputs": []
    },
    {
      "cell_type": "code",
      "metadata": {
        "id": "ZdJ2QzJgp3hv",
        "colab_type": "code",
        "colab": {}
      },
      "source": [
        "# Create a classifier learner using the dataloader defined above\n",
        "learn_clf = text_classifier_learner(dls_clf, \n",
        "                                    # Specify a model architecture for the learner\n",
        "                                    AWD_LSTM, \n",
        "                                    # Specify the % in dropout layer for regularization\n",
        "                                    drop_mult=0.5,\n",
        "                                    # Specify a metric to evaluate performance while training\n",
        "                                    metrics = accuracy_multi).to_fp16()"
      ],
      "execution_count": null,
      "outputs": []
    },
    {
      "cell_type": "code",
      "metadata": {
        "id": "-94j3heeqEhs",
        "colab_type": "code",
        "colab": {}
      },
      "source": [
        "# Load the embeddings from the finetuned language model in our learner object\n",
        "learn_clf = learn_clf.load_encoder(\"finetuned_language_model_encoder\")"
      ],
      "execution_count": null,
      "outputs": []
    },
    {
      "cell_type": "code",
      "metadata": {
        "id": "QfqE_5AVqM6B",
        "colab_type": "code",
        "colab": {
          "base_uri": "https://localhost:8080/",
          "height": 77
        },
        "outputId": "7a0ce8d2-4790-48f3-94b8-03ee9424d38b"
      },
      "source": [
        "# Fit a small cycle to understand the performance\n",
        "learn_clf.fit_one_cycle(1, 2e-2)"
      ],
      "execution_count": null,
      "outputs": [
        {
          "output_type": "display_data",
          "data": {
            "text/html": [
              "<table border=\"1\" class=\"dataframe\">\n",
              "  <thead>\n",
              "    <tr style=\"text-align: left;\">\n",
              "      <th>epoch</th>\n",
              "      <th>train_loss</th>\n",
              "      <th>valid_loss</th>\n",
              "      <th>accuracy_multi</th>\n",
              "      <th>time</th>\n",
              "    </tr>\n",
              "  </thead>\n",
              "  <tbody>\n",
              "    <tr>\n",
              "      <td>0</td>\n",
              "      <td>0.190189</td>\n",
              "      <td>0.117679</td>\n",
              "      <td>0.960435</td>\n",
              "      <td>10:56</td>\n",
              "    </tr>\n",
              "  </tbody>\n",
              "</table>"
            ],
            "text/plain": [
              "<IPython.core.display.HTML object>"
            ]
          },
          "metadata": {
            "tags": []
          }
        }
      ]
    },
    {
      "cell_type": "code",
      "metadata": {
        "id": "ZzLLyfQRqM98",
        "colab_type": "code",
        "colab": {
          "base_uri": "https://localhost:8080/",
          "height": 77
        },
        "outputId": "baf3f6c5-2982-4cc2-d426-33385e4841fb"
      },
      "source": [
        "# Unfreeze the last two layers and train for an epoch while monitoring the performance\n",
        "learn_clf.freeze_to(-2)\n",
        "learn_clf.fit_one_cycle(1, slice(1e-2/(2.6**4),1e-2))"
      ],
      "execution_count": null,
      "outputs": [
        {
          "output_type": "display_data",
          "data": {
            "text/html": [
              "<table border=\"1\" class=\"dataframe\">\n",
              "  <thead>\n",
              "    <tr style=\"text-align: left;\">\n",
              "      <th>epoch</th>\n",
              "      <th>train_loss</th>\n",
              "      <th>valid_loss</th>\n",
              "      <th>accuracy_multi</th>\n",
              "      <th>time</th>\n",
              "    </tr>\n",
              "  </thead>\n",
              "  <tbody>\n",
              "    <tr>\n",
              "      <td>0</td>\n",
              "      <td>0.095186</td>\n",
              "      <td>0.082094</td>\n",
              "      <td>0.972064</td>\n",
              "      <td>13:45</td>\n",
              "    </tr>\n",
              "  </tbody>\n",
              "</table>"
            ],
            "text/plain": [
              "<IPython.core.display.HTML object>"
            ]
          },
          "metadata": {
            "tags": []
          }
        }
      ]
    },
    {
      "cell_type": "code",
      "metadata": {
        "id": "2p_Rvr_Nuk7j",
        "colab_type": "code",
        "colab": {
          "base_uri": "https://localhost:8080/",
          "height": 77
        },
        "outputId": "c8a459b9-b2b4-43d8-ace7-947449046f2f"
      },
      "source": [
        "# Unfreeze the last three layers and train for an epoch while monitoring the performance\n",
        "learn_clf.freeze_to(-3)\n",
        "learn_clf.fit_one_cycle(1, slice(5e-3/(2.6**4),5e-3))"
      ],
      "execution_count": null,
      "outputs": [
        {
          "output_type": "display_data",
          "data": {
            "text/html": [
              "<table border=\"1\" class=\"dataframe\">\n",
              "  <thead>\n",
              "    <tr style=\"text-align: left;\">\n",
              "      <th>epoch</th>\n",
              "      <th>train_loss</th>\n",
              "      <th>valid_loss</th>\n",
              "      <th>accuracy_multi</th>\n",
              "      <th>time</th>\n",
              "    </tr>\n",
              "  </thead>\n",
              "  <tbody>\n",
              "    <tr>\n",
              "      <td>0</td>\n",
              "      <td>0.078971</td>\n",
              "      <td>0.067934</td>\n",
              "      <td>0.976303</td>\n",
              "      <td>22:17</td>\n",
              "    </tr>\n",
              "  </tbody>\n",
              "</table>"
            ],
            "text/plain": [
              "<IPython.core.display.HTML object>"
            ]
          },
          "metadata": {
            "tags": []
          }
        }
      ]
    },
    {
      "cell_type": "code",
      "metadata": {
        "id": "bp2L1LUouwqB",
        "colab_type": "code",
        "colab": {
          "base_uri": "https://localhost:8080/",
          "height": 77
        },
        "outputId": "ce136b92-3e70-4e35-abcf-041d80ebe383"
      },
      "source": [
        "# Unfreeze all the layers and train for a couple of epochs and monitor the performance\n",
        "learn_clf.unfreeze()\n",
        "learn_clf.fit_one_cycle(1, slice(1e-3/(2.6**4),1e-3))"
      ],
      "execution_count": null,
      "outputs": [
        {
          "output_type": "display_data",
          "data": {
            "text/html": [
              "<table border=\"1\" class=\"dataframe\">\n",
              "  <thead>\n",
              "    <tr style=\"text-align: left;\">\n",
              "      <th>epoch</th>\n",
              "      <th>train_loss</th>\n",
              "      <th>valid_loss</th>\n",
              "      <th>accuracy_multi</th>\n",
              "      <th>time</th>\n",
              "    </tr>\n",
              "  </thead>\n",
              "  <tbody>\n",
              "    <tr>\n",
              "      <td>0</td>\n",
              "      <td>0.060560</td>\n",
              "      <td>0.065158</td>\n",
              "      <td>0.976997</td>\n",
              "      <td>29:23</td>\n",
              "    </tr>\n",
              "  </tbody>\n",
              "</table>"
            ],
            "text/plain": [
              "<IPython.core.display.HTML object>"
            ]
          },
          "metadata": {
            "tags": []
          }
        }
      ]
    },
    {
      "cell_type": "code",
      "metadata": {
        "id": "KKlR41wxwaQ1",
        "colab_type": "code",
        "colab": {}
      },
      "source": [
        "# Export the model and save it for inference\n",
        "learn_clf.export(\"toxic_comment_classifier.pkl\")"
      ],
      "execution_count": null,
      "outputs": []
    },
    {
      "cell_type": "markdown",
      "metadata": {
        "id": "czbDj6nFP5qI",
        "colab_type": "text"
      },
      "source": [
        "# Inference"
      ]
    },
    {
      "cell_type": "code",
      "metadata": {
        "id": "KTxKA2HFRWXE",
        "colab_type": "code",
        "colab": {}
      },
      "source": [
        "# Load the trained learner on GPU for fast predictions \n",
        "learn_clf = load_learner(\"toxic_comment_classifier.pkl\", cpu = False)"
      ],
      "execution_count": 5,
      "outputs": []
    },
    {
      "cell_type": "code",
      "metadata": {
        "id": "zCkiqlYzSvPD",
        "colab_type": "code",
        "colab": {}
      },
      "source": [
        "# Create a test dataloader for making predictions\n",
        "tok_inf_df = tokenize_df(test_df, \"comment_text\")\n",
        "inf_dl = learn_clf.dls.test_dl(tok_inf_df[0])"
      ],
      "execution_count": null,
      "outputs": []
    },
    {
      "cell_type": "code",
      "metadata": {
        "id": "9klpNcmZIuLe",
        "colab_type": "code",
        "colab": {}
      },
      "source": [
        "# Predict probabilities for all the classes \n",
        "all_predictions = learn_clf.get_preds(dl = inf_dl, reorder = False)\n",
        "probs = all_predictions[0].numpy()"
      ],
      "execution_count": null,
      "outputs": []
    },
    {
      "cell_type": "code",
      "metadata": {
        "id": "VFIuucMiUjeH",
        "colab_type": "code",
        "colab": {}
      },
      "source": [
        "# Save the predictions as a pkl file immediately\n",
        "obj = {\"idx\": inf_dl.get_idxs(),  \"preds\": all_predictions}\n",
        "\n",
        "with open(\"preds.pkl\", \"wb\") as f:\n",
        "    pickle.dump(obj, f)\n",
        "    f.close()"
      ],
      "execution_count": 75,
      "outputs": []
    },
    {
      "cell_type": "code",
      "metadata": {
        "id": "8vctBfxtX6xl",
        "colab_type": "code",
        "colab": {}
      },
      "source": [
        "# IDs for the comment_text\n",
        "idxs = test_df.loc[inf_dl.get_idxs()].id.reset_index(drop = True)"
      ],
      "execution_count": 77,
      "outputs": []
    },
    {
      "cell_type": "code",
      "metadata": {
        "id": "rk4xFw3r_4Sw",
        "colab_type": "code",
        "colab": {}
      },
      "source": [
        "# The order id in test data\n",
        "indices = inf_dl.get_idxs()"
      ],
      "execution_count": 78,
      "outputs": []
    },
    {
      "cell_type": "code",
      "metadata": {
        "id": "FcYoui1cXgu1",
        "colab_type": "code",
        "colab": {
          "base_uri": "https://localhost:8080/",
          "height": 195
        },
        "outputId": "0ca2c8f2-9f67-4200-96d0-0b2a11bbd011"
      },
      "source": [
        "# Create a Predictions dataframe for submission\n",
        "predictions = pd.DataFrame(all_predictions[0].numpy(), columns = learn_clf.dls.vocab[1])\n",
        "predictions[\"id\"] = idxs\n",
        "predictions[\"order\"] = indices\n",
        "\n",
        "# Curate the dataframe to match the submission format\n",
        "predictions = predictions.sort_values(by = [\"order\"])\n",
        "predictions = predictions[[\"id\", \"toxic\", \"severe_toxic\", \"obscene\", \"threat\", \"insult\", \"identity_hate\"]].reset_index(drop = True)\n",
        "predictions.head()\n",
        "\n",
        "# Save the dataframe\n",
        "predictions.to_csv(\"submissions_toxic.csv\", index = False)"
      ],
      "execution_count": 79,
      "outputs": [
        {
          "output_type": "execute_result",
          "data": {
            "text/html": [
              "<div>\n",
              "<style scoped>\n",
              "    .dataframe tbody tr th:only-of-type {\n",
              "        vertical-align: middle;\n",
              "    }\n",
              "\n",
              "    .dataframe tbody tr th {\n",
              "        vertical-align: top;\n",
              "    }\n",
              "\n",
              "    .dataframe thead th {\n",
              "        text-align: right;\n",
              "    }\n",
              "</style>\n",
              "<table border=\"1\" class=\"dataframe\">\n",
              "  <thead>\n",
              "    <tr style=\"text-align: right;\">\n",
              "      <th></th>\n",
              "      <th>id</th>\n",
              "      <th>toxic</th>\n",
              "      <th>severe_toxic</th>\n",
              "      <th>obscene</th>\n",
              "      <th>threat</th>\n",
              "      <th>insult</th>\n",
              "      <th>identity_hate</th>\n",
              "    </tr>\n",
              "  </thead>\n",
              "  <tbody>\n",
              "    <tr>\n",
              "      <th>0</th>\n",
              "      <td>00001cee341fdb12</td>\n",
              "      <td>0.999900</td>\n",
              "      <td>0.749961</td>\n",
              "      <td>0.999884</td>\n",
              "      <td>0.079060</td>\n",
              "      <td>0.993232</td>\n",
              "      <td>0.484541</td>\n",
              "    </tr>\n",
              "    <tr>\n",
              "      <th>1</th>\n",
              "      <td>0000247867823ef7</td>\n",
              "      <td>0.104108</td>\n",
              "      <td>0.002612</td>\n",
              "      <td>0.022002</td>\n",
              "      <td>0.001742</td>\n",
              "      <td>0.017454</td>\n",
              "      <td>0.003085</td>\n",
              "    </tr>\n",
              "    <tr>\n",
              "      <th>2</th>\n",
              "      <td>00013b17ad220c46</td>\n",
              "      <td>0.036428</td>\n",
              "      <td>0.002119</td>\n",
              "      <td>0.014009</td>\n",
              "      <td>0.001431</td>\n",
              "      <td>0.008042</td>\n",
              "      <td>0.003372</td>\n",
              "    </tr>\n",
              "    <tr>\n",
              "      <th>3</th>\n",
              "      <td>00017563c3f7919a</td>\n",
              "      <td>0.002121</td>\n",
              "      <td>0.000012</td>\n",
              "      <td>0.000559</td>\n",
              "      <td>0.000060</td>\n",
              "      <td>0.000323</td>\n",
              "      <td>0.000030</td>\n",
              "    </tr>\n",
              "    <tr>\n",
              "      <th>4</th>\n",
              "      <td>00017695ad8997eb</td>\n",
              "      <td>0.006906</td>\n",
              "      <td>0.000094</td>\n",
              "      <td>0.000944</td>\n",
              "      <td>0.000506</td>\n",
              "      <td>0.000904</td>\n",
              "      <td>0.000272</td>\n",
              "    </tr>\n",
              "  </tbody>\n",
              "</table>\n",
              "</div>"
            ],
            "text/plain": [
              "                 id     toxic  severe_toxic  ...    threat    insult  identity_hate\n",
              "0  00001cee341fdb12  0.999900      0.749961  ...  0.079060  0.993232       0.484541\n",
              "1  0000247867823ef7  0.104108      0.002612  ...  0.001742  0.017454       0.003085\n",
              "2  00013b17ad220c46  0.036428      0.002119  ...  0.001431  0.008042       0.003372\n",
              "3  00017563c3f7919a  0.002121      0.000012  ...  0.000060  0.000323       0.000030\n",
              "4  00017695ad8997eb  0.006906      0.000094  ...  0.000506  0.000904       0.000272\n",
              "\n",
              "[5 rows x 7 columns]"
            ]
          },
          "metadata": {
            "tags": []
          },
          "execution_count": 79
        }
      ]
    },
    {
      "cell_type": "code",
      "metadata": {
        "id": "Hwh_XQixYavG",
        "colab_type": "code",
        "colab": {
          "base_uri": "https://localhost:8080/",
          "height": 70
        },
        "outputId": "1167848f-297b-42f9-fd63-66e91b85ae18"
      },
      "source": [
        "# Submit the predictions to kaggle\n",
        "!kaggle competitions submit -c jigsaw-toxic-comment-classification-challenge -f submissions_toxic.csv -m \"Second submission for toxic comments classification\""
      ],
      "execution_count": 82,
      "outputs": [
        {
          "output_type": "stream",
          "text": [
            "Warning: Looks like you're using an outdated API Version, please consider updating (server 1.5.6 / client 1.5.4)\n",
            "100% 13.6M/13.6M [00:01<00:00, 8.28MB/s]\n",
            "Successfully submitted to Toxic Comment Classification Challenge"
          ],
          "name": "stdout"
        }
      ]
    }
  ]
}